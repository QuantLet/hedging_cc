{
 "cells": [
  {
   "cell_type": "code",
   "execution_count": 1,
   "metadata": {},
   "outputs": [],
   "source": [
    "import pandas as pd\n",
    "import numpy as np\n",
    "import os"
   ]
  },
  {
   "cell_type": "code",
   "execution_count": 2,
   "metadata": {},
   "outputs": [],
   "source": [
    "dates = ['20190401','20191001','20200201']\n",
    "rel_info = []"
   ]
  },
  {
   "cell_type": "code",
   "execution_count": 3,
   "metadata": {},
   "outputs": [],
   "source": [
    "def get_futures(date):\n",
    "    data = pd.read_csv('_input/tickers/'+date+'.csv')\n",
    "    data = data[data['underlying_index'].str.split('-').str[0] == 'BTC']\n",
    "    a = list(data['underlying_index'].unique())\n",
    "    prices= []\n",
    "    for x in a:\n",
    "        b =data[data['underlying_index']== x]['underlying_price'].iloc[-1]\n",
    "        prices.append([date,x,b])\n",
    "    return prices\n",
    "    \n"
   ]
  },
  {
   "cell_type": "code",
   "execution_count": 4,
   "metadata": {},
   "outputs": [
    {
     "data": {
      "text/plain": [
       "[['20190401', 'BTC-28JUN19', 4088.16], ['20190401', 'BTC-27SEP19', 4078.22]]"
      ]
     },
     "execution_count": 4,
     "metadata": {},
     "output_type": "execute_result"
    }
   ],
   "source": [
    "get_futures(dates[0])"
   ]
  },
  {
   "cell_type": "code",
   "execution_count": 5,
   "metadata": {},
   "outputs": [],
   "source": [
    "for date in dates:\n",
    "    rel_info.append(get_futures(date))"
   ]
  },
  {
   "cell_type": "code",
   "execution_count": 6,
   "metadata": {},
   "outputs": [
    {
     "data": {
      "text/plain": [
       "[[['20190401', 'BTC-28JUN19', 4088.16], ['20190401', 'BTC-27SEP19', 4078.22]],\n",
       " [['20191001', 'BTC-27DEC19', 8367.51], ['20191001', 'BTC-27MAR20', 8467.03]],\n",
       " [['20200201', 'BTC-27MAR20', 9613.13], ['20200201', 'BTC-26JUN20', 9804.85]]]"
      ]
     },
     "execution_count": 6,
     "metadata": {},
     "output_type": "execute_result"
    }
   ],
   "source": [
    "rel_info"
   ]
  },
  {
   "cell_type": "code",
   "execution_count": null,
   "metadata": {},
   "outputs": [],
   "source": []
  },
  {
   "cell_type": "code",
   "execution_count": null,
   "metadata": {},
   "outputs": [],
   "source": []
  },
  {
   "cell_type": "code",
   "execution_count": null,
   "metadata": {},
   "outputs": [],
   "source": []
  }
 ],
 "metadata": {
  "kernelspec": {
   "display_name": "Python 3",
   "language": "python",
   "name": "python3"
  },
  "language_info": {
   "codemirror_mode": {
    "name": "ipython",
    "version": 3
   },
   "file_extension": ".py",
   "mimetype": "text/x-python",
   "name": "python",
   "nbconvert_exporter": "python",
   "pygments_lexer": "ipython3",
   "version": "3.8.5"
  }
 },
 "nbformat": 4,
 "nbformat_minor": 4
}
