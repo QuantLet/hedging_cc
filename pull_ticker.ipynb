{
 "cells": [
  {
   "cell_type": "code",
   "execution_count": 4,
   "metadata": {},
   "outputs": [],
   "source": [
    "import asyncio\n",
    "from tardis_client import TardisClient, Channel\n",
    "from datetime import datetime\n",
    "from datetime import timedelta\n",
    "import os"
   ]
  },
  {
   "cell_type": "code",
   "execution_count": 5,
   "metadata": {},
   "outputs": [],
   "source": [
    "# messages as provided by Deribit real-time stream\n",
    "# sample ticker message\n",
    "# {\n",
    "#   \"jsonrpc\": \"2.0\",\n",
    "#   \"method\": \"subscription\",\n",
    "#   \"params\": {\n",
    "#     \"channel\": \"ticker.ETH-27DEC19-400-P.raw\",\n",
    "#     \"data\": {\n",
    "#       \"underlying_price\": 181.88,\n",
    "#       \"underlying_index\": \"ETH-27DEC19\",\n",
    "#       \"timestamp\": 1569887997259,\n",
    "#       \"stats\": {\n",
    "#         \"volume\": null,\n",
    "#         \"low\": null,\n",
    "#         \"high\": null\n",
    "#       },\n",
    "#       \"state\": \"open\",\n",
    "#       \"settlement_price\": 1.41,\n",
    "#       \"open_interest\": 16,\n",
    "#       \"min_price\": 1.145,\n",
    "#       \"max_price\": 1.307,\n",
    "#       \"mark_price\": 1.223004,\n",
    "#       \"mark_iv\": 109.02,\n",
    "#       \"last_price\": 1.195,\n",
    "#       \"interest_rate\": 0,\n",
    "#       \"instrument_name\": \"ETH-27DEC19-400-P\",\n",
    "#       \"index_price\": 181.19,\n",
    "#       \"greeks\": {\n",
    "#         \"vega\": 0.17042,\n",
    "#         \"theta\": -0.10637,\n",
    "#         \"rho\": -0.91829,\n",
    "#         \"gamma\": 0.00198,\n",
    "#         \"delta\": -0.88711\n",
    "#       },\n",
    "#       \"bid_iv\": 0,\n",
    "#       \"best_bid_price\": 0.001,\n",
    "#       \"best_bid_amount\": 8,\n",
    "#       \"best_ask_price\": 0,\n",
    "#       \"best_ask_amount\": 0,\n",
    "#       \"ask_iv\": 0\n",
    "#     }\n",
    "#   }\n",
    "# }"
   ]
  },
  {
   "cell_type": "code",
   "execution_count": 10,
   "metadata": {},
   "outputs": [
    {
     "name": "stdout",
     "output_type": "stream",
     "text": [
      "Pulling the tickers for 2020-07-05 10:59\n"
     ]
    },
    {
     "ename": "HTTPError",
     "evalue": "HTTP Error 400: {\n  \"code\": 210,\n  \"message\": \"Provided API key does not allow access to the data feed for '2020-07-05T10:59:00.000Z' date ('from'+'offset' params combination).\",\n  \"apiKeyAccessInfo\": [\n    {\n      \"exchange\": \"deribit\",\n      \"accessType\": \"one-off-purchase\",\n      \"from\": \"2019-04-01T00:00:00.000Z\",\n      \"to\": \"2020-07-01T00:00:00.000Z\",\n      \"symbols\": []\n    }\n  ]\n}",
     "output_type": "error",
     "traceback": [
      "\u001b[0;31m---------------------------------------------------------------------------\u001b[0m",
      "\u001b[0;31mHTTPError\u001b[0m                                 Traceback (most recent call last)",
      "\u001b[0;32m<ipython-input-10-f994c38e6c32>\u001b[0m in \u001b[0;36m<module>\u001b[0;34m\u001b[0m\n\u001b[1;32m     54\u001b[0m \u001b[0;34m\u001b[0m\u001b[0m\n\u001b[1;32m     55\u001b[0m \u001b[0;34m\u001b[0m\u001b[0m\n\u001b[0;32m---> 56\u001b[0;31m \u001b[0;32mawait\u001b[0m \u001b[0mpull_quotes\u001b[0m\u001b[0;34m(\u001b[0m\u001b[0;34m)\u001b[0m\u001b[0;34m\u001b[0m\u001b[0;34m\u001b[0m\u001b[0m\n\u001b[0m",
      "\u001b[0;32m<ipython-input-10-f994c38e6c32>\u001b[0m in \u001b[0;36mpull_quotes\u001b[0;34m()\u001b[0m\n\u001b[1;32m     51\u001b[0m         \u001b[0mend_date\u001b[0m \u001b[0;34m=\u001b[0m \u001b[0mdatetime\u001b[0m\u001b[0;34m.\u001b[0m\u001b[0mstrftime\u001b[0m\u001b[0;34m(\u001b[0m\u001b[0minitial_end_date\u001b[0m \u001b[0;34m+\u001b[0m \u001b[0mtimedelta\u001b[0m\u001b[0;34m(\u001b[0m\u001b[0mdays\u001b[0m\u001b[0;34m=\u001b[0m\u001b[0mdays\u001b[0m\u001b[0;34m)\u001b[0m\u001b[0;34m,\u001b[0m \u001b[0mdate_format\u001b[0m\u001b[0;34m)\u001b[0m\u001b[0;34m\u001b[0m\u001b[0;34m\u001b[0m\u001b[0m\n\u001b[1;32m     52\u001b[0m         \u001b[0mprint\u001b[0m\u001b[0;34m(\u001b[0m\u001b[0;34mf\"Pulling the tickers for {start_date}\"\u001b[0m\u001b[0;34m)\u001b[0m\u001b[0;34m\u001b[0m\u001b[0;34m\u001b[0m\u001b[0m\n\u001b[0;32m---> 53\u001b[0;31m         \u001b[0;32mawait\u001b[0m \u001b[0mpull_daily_quotes\u001b[0m\u001b[0;34m(\u001b[0m\u001b[0mstart_date\u001b[0m\u001b[0;34m,\u001b[0m \u001b[0mend_date\u001b[0m\u001b[0;34m)\u001b[0m\u001b[0;34m\u001b[0m\u001b[0;34m\u001b[0m\u001b[0m\n\u001b[0m\u001b[1;32m     54\u001b[0m \u001b[0;34m\u001b[0m\u001b[0m\n\u001b[1;32m     55\u001b[0m \u001b[0;34m\u001b[0m\u001b[0m\n",
      "\u001b[0;32m<ipython-input-10-f994c38e6c32>\u001b[0m in \u001b[0;36mpull_daily_quotes\u001b[0;34m(start_date, end_date)\u001b[0m\n\u001b[1;32m     38\u001b[0m             \u001b[0mf\u001b[0m\u001b[0;34m.\u001b[0m\u001b[0mclose\u001b[0m\u001b[0;34m(\u001b[0m\u001b[0;34m)\u001b[0m\u001b[0;34m\u001b[0m\u001b[0;34m\u001b[0m\u001b[0m\n\u001b[1;32m     39\u001b[0m \u001b[0;34m\u001b[0m\u001b[0m\n\u001b[0;32m---> 40\u001b[0;31m     \u001b[0;32mawait\u001b[0m \u001b[0mreplay\u001b[0m\u001b[0;34m(\u001b[0m\u001b[0;34m)\u001b[0m\u001b[0;34m\u001b[0m\u001b[0;34m\u001b[0m\u001b[0m\n\u001b[0m\u001b[1;32m     41\u001b[0m \u001b[0;34m\u001b[0m\u001b[0m\n\u001b[1;32m     42\u001b[0m \u001b[0;34m\u001b[0m\u001b[0m\n",
      "\u001b[0;32m<ipython-input-10-f994c38e6c32>\u001b[0m in \u001b[0;36mreplay\u001b[0;34m()\u001b[0m\n\u001b[1;32m     17\u001b[0m \u001b[0;34m\u001b[0m\u001b[0m\n\u001b[1;32m     18\u001b[0m         \u001b[0;32mwith\u001b[0m \u001b[0mopen\u001b[0m\u001b[0;34m(\u001b[0m\u001b[0mpath\u001b[0m\u001b[0;34m,\u001b[0m \u001b[0;34m\"w\"\u001b[0m\u001b[0;34m)\u001b[0m \u001b[0;32mas\u001b[0m \u001b[0mf\u001b[0m\u001b[0;34m:\u001b[0m\u001b[0;34m\u001b[0m\u001b[0;34m\u001b[0m\u001b[0m\n\u001b[0;32m---> 19\u001b[0;31m             \u001b[0;32masync\u001b[0m \u001b[0;32mfor\u001b[0m \u001b[0mlocal_timestamp\u001b[0m\u001b[0;34m,\u001b[0m \u001b[0mmessage\u001b[0m \u001b[0;32min\u001b[0m \u001b[0mmessages\u001b[0m\u001b[0;34m:\u001b[0m\u001b[0;34m\u001b[0m\u001b[0;34m\u001b[0m\u001b[0m\n\u001b[0m\u001b[1;32m     20\u001b[0m                 \u001b[0minstrument_name\u001b[0m \u001b[0;34m=\u001b[0m \u001b[0mmessage\u001b[0m\u001b[0;34m[\u001b[0m\u001b[0;34m\"params\"\u001b[0m\u001b[0;34m]\u001b[0m\u001b[0;34m[\u001b[0m\u001b[0;34m\"data\"\u001b[0m\u001b[0;34m]\u001b[0m\u001b[0;34m[\u001b[0m\u001b[0;34m\"instrument_name\"\u001b[0m\u001b[0;34m]\u001b[0m\u001b[0;34m\u001b[0m\u001b[0;34m\u001b[0m\u001b[0m\n\u001b[1;32m     21\u001b[0m                 \u001b[0mis_option\u001b[0m \u001b[0;34m=\u001b[0m \u001b[0minstrument_name\u001b[0m\u001b[0;34m.\u001b[0m\u001b[0mendswith\u001b[0m\u001b[0;34m(\u001b[0m\u001b[0;34m\"-P\"\u001b[0m\u001b[0;34m)\u001b[0m \u001b[0;32mor\u001b[0m \u001b[0minstrument_name\u001b[0m\u001b[0;34m.\u001b[0m\u001b[0mendswith\u001b[0m\u001b[0;34m(\u001b[0m\u001b[0;34m\"-C\"\u001b[0m\u001b[0;34m)\u001b[0m\u001b[0;34m\u001b[0m\u001b[0;34m\u001b[0m\u001b[0m\n",
      "\u001b[0;32m/usr/local/lib/python3.9/site-packages/tardis_client/tardis_client.py\u001b[0m in \u001b[0;36mreplay\u001b[0;34m(self, exchange, from_date, to_date, filters, decode_response, json)\u001b[0m\n\u001b[1;32m     84\u001b[0m                 \u001b[0;31m# and stop the loop\u001b[0m\u001b[0;34m\u001b[0m\u001b[0;34m\u001b[0m\u001b[0;34m\u001b[0m\u001b[0m\n\u001b[1;32m     85\u001b[0m                 \u001b[0;32mif\u001b[0m \u001b[0mfetch_data_task\u001b[0m\u001b[0;34m.\u001b[0m\u001b[0mdone\u001b[0m\u001b[0;34m(\u001b[0m\u001b[0;34m)\u001b[0m \u001b[0;32mand\u001b[0m \u001b[0mfetch_data_task\u001b[0m\u001b[0;34m.\u001b[0m\u001b[0mexception\u001b[0m\u001b[0;34m(\u001b[0m\u001b[0;34m)\u001b[0m\u001b[0;34m:\u001b[0m\u001b[0;34m\u001b[0m\u001b[0;34m\u001b[0m\u001b[0m\n\u001b[0;32m---> 86\u001b[0;31m                     \u001b[0;32mraise\u001b[0m \u001b[0mfetch_data_task\u001b[0m\u001b[0;34m.\u001b[0m\u001b[0mexception\u001b[0m\u001b[0;34m(\u001b[0m\u001b[0;34m)\u001b[0m\u001b[0;34m\u001b[0m\u001b[0;34m\u001b[0m\u001b[0m\n\u001b[0m\u001b[1;32m     87\u001b[0m \u001b[0;34m\u001b[0m\u001b[0m\n\u001b[1;32m     88\u001b[0m                 \u001b[0;31m# if data for requested date already exists we can proceed further\u001b[0m\u001b[0;34m\u001b[0m\u001b[0;34m\u001b[0m\u001b[0;34m\u001b[0m\u001b[0m\n",
      "\u001b[0;32m/usr/local/lib/python3.9/site-packages/tardis_client/data_downloader.py\u001b[0m in \u001b[0;36mfetch_data_to_replay\u001b[0;34m(exchange, from_date, to_date, filters, endpoint, cache_dir, api_key, http_timeout)\u001b[0m\n\u001b[1;32m     60\u001b[0m \u001b[0;34m\u001b[0m\u001b[0m\n\u001b[1;32m     61\u001b[0m         \u001b[0;31m# finally wait for the remaining fetch data download tasks\u001b[0m\u001b[0;34m\u001b[0m\u001b[0;34m\u001b[0m\u001b[0;34m\u001b[0m\u001b[0m\n\u001b[0;32m---> 62\u001b[0;31m         \u001b[0;32mawait\u001b[0m \u001b[0masyncio\u001b[0m\u001b[0;34m.\u001b[0m\u001b[0mgather\u001b[0m\u001b[0;34m(\u001b[0m\u001b[0;34m*\u001b[0m\u001b[0mfetch_data_tasks\u001b[0m\u001b[0;34m)\u001b[0m\u001b[0;34m\u001b[0m\u001b[0;34m\u001b[0m\u001b[0m\n\u001b[0m\u001b[1;32m     63\u001b[0m \u001b[0;34m\u001b[0m\u001b[0m\n\u001b[1;32m     64\u001b[0m         \u001b[0mend_time\u001b[0m \u001b[0;34m=\u001b[0m \u001b[0mtime\u001b[0m\u001b[0;34m(\u001b[0m\u001b[0;34m)\u001b[0m\u001b[0;34m\u001b[0m\u001b[0;34m\u001b[0m\u001b[0m\n",
      "\u001b[0;32m/usr/local/lib/python3.9/site-packages/tardis_client/data_downloader.py\u001b[0m in \u001b[0;36m_fetch_data_if_not_cached\u001b[0;34m(session, endpoint, cache_dir, exchange, from_date, offset, filters)\u001b[0m\n\u001b[1;32m     80\u001b[0m     \u001b[0;31m# fetch and cache slice only if it's not cached already\u001b[0m\u001b[0;34m\u001b[0m\u001b[0;34m\u001b[0m\u001b[0;34m\u001b[0m\u001b[0m\n\u001b[1;32m     81\u001b[0m     \u001b[0;32mif\u001b[0m \u001b[0mos\u001b[0m\u001b[0;34m.\u001b[0m\u001b[0mpath\u001b[0m\u001b[0;34m.\u001b[0m\u001b[0misfile\u001b[0m\u001b[0;34m(\u001b[0m\u001b[0mcache_path\u001b[0m\u001b[0;34m)\u001b[0m \u001b[0;34m==\u001b[0m \u001b[0;32mFalse\u001b[0m\u001b[0;34m:\u001b[0m\u001b[0;34m\u001b[0m\u001b[0;34m\u001b[0m\u001b[0m\n\u001b[0;32m---> 82\u001b[0;31m         \u001b[0;32mawait\u001b[0m \u001b[0m_reliably_fetch_and_cache_slice\u001b[0m\u001b[0;34m(\u001b[0m\u001b[0msession\u001b[0m\u001b[0;34m,\u001b[0m \u001b[0mendpoint\u001b[0m\u001b[0;34m,\u001b[0m \u001b[0mexchange\u001b[0m\u001b[0;34m,\u001b[0m \u001b[0mfrom_date\u001b[0m\u001b[0;34m,\u001b[0m \u001b[0moffset\u001b[0m\u001b[0;34m,\u001b[0m \u001b[0mfilters\u001b[0m\u001b[0;34m,\u001b[0m \u001b[0mcache_path\u001b[0m\u001b[0;34m)\u001b[0m\u001b[0;34m\u001b[0m\u001b[0;34m\u001b[0m\u001b[0m\n\u001b[0m\u001b[1;32m     83\u001b[0m         \u001b[0mlogger\u001b[0m\u001b[0;34m.\u001b[0m\u001b[0mdebug\u001b[0m\u001b[0;34m(\u001b[0m\u001b[0;34m\"fetched data slice for date %s from the API and cached - %s\"\u001b[0m\u001b[0;34m,\u001b[0m \u001b[0mslice_date\u001b[0m\u001b[0;34m,\u001b[0m \u001b[0mcache_path\u001b[0m\u001b[0;34m)\u001b[0m\u001b[0;34m\u001b[0m\u001b[0;34m\u001b[0m\u001b[0m\n\u001b[1;32m     84\u001b[0m     \u001b[0;32melse\u001b[0m\u001b[0;34m:\u001b[0m\u001b[0;34m\u001b[0m\u001b[0;34m\u001b[0m\u001b[0m\n",
      "\u001b[0;32m/usr/local/lib/python3.9/site-packages/tardis_client/data_downloader.py\u001b[0m in \u001b[0;36m_reliably_fetch_and_cache_slice\u001b[0;34m(session, endpoint, exchange, from_date, offset, filters, cache_path)\u001b[0m\n\u001b[1;32m    116\u001b[0m                 \u001b[0;31m# do not retry when we've got bad or unauthorized request or enough attempts\u001b[0m\u001b[0;34m\u001b[0m\u001b[0;34m\u001b[0m\u001b[0;34m\u001b[0m\u001b[0m\n\u001b[1;32m    117\u001b[0m                 \u001b[0;32mif\u001b[0m \u001b[0mex\u001b[0m\u001b[0;34m.\u001b[0m\u001b[0mcode\u001b[0m \u001b[0;34m==\u001b[0m \u001b[0;36m400\u001b[0m \u001b[0;32mor\u001b[0m \u001b[0mex\u001b[0m\u001b[0;34m.\u001b[0m\u001b[0mcode\u001b[0m \u001b[0;34m==\u001b[0m \u001b[0;36m401\u001b[0m\u001b[0;34m:\u001b[0m\u001b[0;34m\u001b[0m\u001b[0;34m\u001b[0m\u001b[0m\n\u001b[0;32m--> 118\u001b[0;31m                     \u001b[0;32mraise\u001b[0m \u001b[0mex\u001b[0m\u001b[0;34m\u001b[0m\u001b[0;34m\u001b[0m\u001b[0m\n\u001b[0m\u001b[1;32m    119\u001b[0m                 \u001b[0;32mif\u001b[0m \u001b[0mex\u001b[0m\u001b[0;34m.\u001b[0m\u001b[0mcode\u001b[0m \u001b[0;34m==\u001b[0m \u001b[0;36m429\u001b[0m\u001b[0;34m:\u001b[0m\u001b[0;34m\u001b[0m\u001b[0;34m\u001b[0m\u001b[0m\n\u001b[1;32m    120\u001b[0m                     \u001b[0mtoo_many_requests\u001b[0m \u001b[0;34m=\u001b[0m \u001b[0;32mTrue\u001b[0m\u001b[0;34m\u001b[0m\u001b[0;34m\u001b[0m\u001b[0m\n",
      "\u001b[0;32m/usr/local/lib/python3.9/site-packages/tardis_client/data_downloader.py\u001b[0m in \u001b[0;36m_reliably_fetch_and_cache_slice\u001b[0;34m(session, endpoint, exchange, from_date, offset, filters, cache_path)\u001b[0m\n\u001b[1;32m    103\u001b[0m         \u001b[0mtoo_many_requests\u001b[0m \u001b[0;34m=\u001b[0m \u001b[0;32mFalse\u001b[0m\u001b[0;34m\u001b[0m\u001b[0;34m\u001b[0m\u001b[0m\n\u001b[1;32m    104\u001b[0m         \u001b[0;32mtry\u001b[0m\u001b[0;34m:\u001b[0m\u001b[0;34m\u001b[0m\u001b[0;34m\u001b[0m\u001b[0m\n\u001b[0;32m--> 105\u001b[0;31m             \u001b[0;32mawait\u001b[0m \u001b[0m_fetch_and_cache_slice\u001b[0m\u001b[0;34m(\u001b[0m\u001b[0msession\u001b[0m\u001b[0;34m,\u001b[0m \u001b[0murl\u001b[0m\u001b[0;34m=\u001b[0m\u001b[0mfetch_url\u001b[0m\u001b[0;34m,\u001b[0m \u001b[0mcache_path\u001b[0m\u001b[0;34m=\u001b[0m\u001b[0mcache_path\u001b[0m\u001b[0;34m)\u001b[0m\u001b[0;34m\u001b[0m\u001b[0;34m\u001b[0m\u001b[0m\n\u001b[0m\u001b[1;32m    106\u001b[0m             \u001b[0;32mbreak\u001b[0m\u001b[0;34m\u001b[0m\u001b[0;34m\u001b[0m\u001b[0m\n\u001b[1;32m    107\u001b[0m \u001b[0;34m\u001b[0m\u001b[0m\n",
      "\u001b[0;32m/usr/local/lib/python3.9/site-packages/tardis_client/data_downloader.py\u001b[0m in \u001b[0;36m_fetch_and_cache_slice\u001b[0;34m(session, url, cache_path)\u001b[0m\n\u001b[1;32m    138\u001b[0m         \u001b[0;32mif\u001b[0m \u001b[0mresponse\u001b[0m\u001b[0;34m.\u001b[0m\u001b[0mstatus\u001b[0m \u001b[0;34m!=\u001b[0m \u001b[0;36m200\u001b[0m\u001b[0;34m:\u001b[0m\u001b[0;34m\u001b[0m\u001b[0;34m\u001b[0m\u001b[0m\n\u001b[1;32m    139\u001b[0m             \u001b[0merror_text\u001b[0m \u001b[0;34m=\u001b[0m \u001b[0;32mawait\u001b[0m \u001b[0mresponse\u001b[0m\u001b[0;34m.\u001b[0m\u001b[0mtext\u001b[0m\u001b[0;34m(\u001b[0m\u001b[0;34m)\u001b[0m\u001b[0;34m\u001b[0m\u001b[0;34m\u001b[0m\u001b[0m\n\u001b[0;32m--> 140\u001b[0;31m             \u001b[0;32mraise\u001b[0m \u001b[0murllib\u001b[0m\u001b[0;34m.\u001b[0m\u001b[0merror\u001b[0m\u001b[0;34m.\u001b[0m\u001b[0mHTTPError\u001b[0m\u001b[0;34m(\u001b[0m\u001b[0murl\u001b[0m\u001b[0;34m,\u001b[0m \u001b[0mcode\u001b[0m\u001b[0;34m=\u001b[0m\u001b[0mresponse\u001b[0m\u001b[0;34m.\u001b[0m\u001b[0mstatus\u001b[0m\u001b[0;34m,\u001b[0m \u001b[0mmsg\u001b[0m\u001b[0;34m=\u001b[0m\u001b[0merror_text\u001b[0m\u001b[0;34m,\u001b[0m \u001b[0mhdrs\u001b[0m\u001b[0;34m=\u001b[0m\u001b[0;32mNone\u001b[0m\u001b[0;34m,\u001b[0m \u001b[0mfp\u001b[0m\u001b[0;34m=\u001b[0m\u001b[0;32mNone\u001b[0m\u001b[0;34m)\u001b[0m\u001b[0;34m\u001b[0m\u001b[0;34m\u001b[0m\u001b[0m\n\u001b[0m\u001b[1;32m    141\u001b[0m \u001b[0;34m\u001b[0m\u001b[0m\n\u001b[1;32m    142\u001b[0m         \u001b[0;31m# ensure that directory where we want to cache data slice exists\u001b[0m\u001b[0;34m\u001b[0m\u001b[0;34m\u001b[0m\u001b[0;34m\u001b[0m\u001b[0m\n",
      "\u001b[0;31mHTTPError\u001b[0m: HTTP Error 400: {\n  \"code\": 210,\n  \"message\": \"Provided API key does not allow access to the data feed for '2020-07-05T10:59:00.000Z' date ('from'+'offset' params combination).\",\n  \"apiKeyAccessInfo\": [\n    {\n      \"exchange\": \"deribit\",\n      \"accessType\": \"one-off-purchase\",\n      \"from\": \"2019-04-01T00:00:00.000Z\",\n      \"to\": \"2020-07-01T00:00:00.000Z\",\n      \"symbols\": []\n    }\n  ]\n}"
     ]
    }
   ],
   "source": [
    "tardis_client = TardisClient(api_key=\"TD.1p99y7G1So1J2QHl.pluqusoyNBCsXKc.kAgEnv7tJaay1zV.1UUkeXx60EhChSV.d8jRdEBJlpsdT8n.c7Ad\")\n",
    "\n",
    "async def pull_daily_quotes(start_date, end_date):\n",
    "\n",
    "    async def replay():\n",
    "        messages = tardis_client.replay(\n",
    "            exchange=\"deribit\",\n",
    "            from_date=start_date,\n",
    "            to_date=end_date,\n",
    "            filters=[Channel(name=\"ticker\", symbols=[])],\n",
    "        )\n",
    "\n",
    "        filename = start_date[0:10].replace('-', '') + \".csv\"\n",
    "        path = os.path.join(os.getcwd(), \"_input\", \"tickers\", filename)\n",
    "\n",
    "        i = 0\n",
    "\n",
    "        with open(path, \"w\") as f:\n",
    "            async for local_timestamp, message in messages:\n",
    "                instrument_name = message[\"params\"][\"data\"][\"instrument_name\"]\n",
    "                is_option = instrument_name.endswith(\"-P\") or instrument_name.endswith(\"-C\")\n",
    "                if is_option:\n",
    "                    data = message[\"params\"][\"data\"]\n",
    "                    greeks = data['greeks']\n",
    "\n",
    "                    for greek, value in greeks.items():\n",
    "                      data[greek] = value\n",
    "\n",
    "                    del data['greeks']\n",
    "                    del data['stats']\n",
    "\n",
    "                    if i == 0:\n",
    "                        f.write(','.join(data.keys()) + '\\n')\n",
    "                        i += 1\n",
    "                    \n",
    "                    f.write(','.join(map(str, data.values())) + '\\n')\n",
    "\n",
    "            f.close()\n",
    "\n",
    "    await replay()\n",
    "\n",
    "\n",
    "async def pull_quotes():\n",
    "\n",
    "    date_format = \"%Y-%m-%d %H:%M\"\n",
    "    initial_start_date = datetime.strptime(\"2020-07-01 10:59\", date_format)\n",
    "    initial_end_date = initial_start_date + timedelta(minutes=1)\n",
    "\n",
    "    for days in range(0, 31):\n",
    "        start_date = datetime.strftime(initial_start_date + timedelta(days=days), date_format)\n",
    "        end_date = datetime.strftime(initial_end_date + timedelta(days=days), date_format)\n",
    "        print(f\"Pulling the tickers for {start_date}\")\n",
    "        await pull_daily_quotes(start_date, end_date)\n",
    "\n",
    "\n",
    "await pull_quotes()"
   ]
  }
 ],
 "metadata": {
  "kernelspec": {
   "display_name": "Python 3",
   "language": "python",
   "name": "python3"
  },
  "language_info": {
   "codemirror_mode": {
    "name": "ipython",
    "version": 3
   },
   "file_extension": ".py",
   "mimetype": "text/x-python",
   "name": "python",
   "nbconvert_exporter": "python",
   "pygments_lexer": "ipython3",
   "version": "3.9.0"
  },
  "pycharm": {
   "stem_cell": {
    "cell_type": "raw",
    "metadata": {
     "collapsed": false
    },
    "source": []
   }
  }
 },
 "nbformat": 4,
 "nbformat_minor": 4
}
