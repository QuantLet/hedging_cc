{
 "cells": [
  {
   "cell_type": "code",
   "execution_count": 22,
   "metadata": {},
   "outputs": [],
   "source": [
    "import os\n",
    "import pandas as pd\n",
    "from scipy import stats\n",
    "import numpy as np"
   ]
  },
  {
   "cell_type": "code",
   "execution_count": 54,
   "metadata": {},
   "outputs": [],
   "source": [
    "models =['BLACK_SCHOLES','HESTON','VARIANCE_GAMMA','SVJ','SVCJ','CGMY','MERTON']\n",
    "hedges = ['DeltaHedge', 'DeltaGammaHedge']\n",
    "periods = {'BULLISH':'4088','CALM':'8367','COVID':'9804'}"
   ]
  },
  {
   "cell_type": "code",
   "execution_count": 65,
   "metadata": {},
   "outputs": [],
   "source": [
    "pvalue=[]\n",
    "\n",
    "\n",
    "for period,strike in periods.items():\n",
    "for model in models:\n",
    "    for hedge in hedges:\n",
    "        \n",
    "            kde  = pd.read_csv(f'_output/hedges/pnl/20210709_204655/PNL__KDE__{model}__{hedge}__{period}__{strike}__30__100000.csv',header=None).to_numpy().reshape(-1)\n",
    "            svcj  = pd.read_csv(f'_output/hedges/pnl/20210709_204655/PNL__SVCJ__{model}__{hedge}__{period}__{strike}__30__100000.csv',header=None).to_numpy().reshape(-1)\n",
    "            pvalue.append(model + ':'+str(stats.ks_2samp(kde, svcj).pvalue))\n",
    "            \n",
    "            \n",
    "            \n",
    "            "
   ]
  },
  {
   "cell_type": "code",
   "execution_count": 66,
   "metadata": {},
   "outputs": [
    {
     "data": {
      "text/plain": [
       "['BLACK_SCHOLES:0.0',\n",
       " 'BLACK_SCHOLES:0.0',\n",
       " 'BLACK_SCHOLES:0.0',\n",
       " 'BLACK_SCHOLES:0.0',\n",
       " 'BLACK_SCHOLES:0.0',\n",
       " 'BLACK_SCHOLES:0.0',\n",
       " 'HESTON:0.0',\n",
       " 'HESTON:0.0',\n",
       " 'HESTON:0.0',\n",
       " 'HESTON:0.0',\n",
       " 'HESTON:0.0',\n",
       " 'HESTON:0.0',\n",
       " 'VARIANCE_GAMMA:0.0',\n",
       " 'VARIANCE_GAMMA:0.0',\n",
       " 'VARIANCE_GAMMA:0.0',\n",
       " 'VARIANCE_GAMMA:0.0',\n",
       " 'VARIANCE_GAMMA:6.608827253881242e-226',\n",
       " 'VARIANCE_GAMMA:3.6247955494936396e-199',\n",
       " 'SVJ:0.0',\n",
       " 'SVJ:0.0',\n",
       " 'SVJ:0.0',\n",
       " 'SVJ:0.0',\n",
       " 'SVJ:0.0',\n",
       " 'SVJ:3.086542048716958e-281',\n",
       " 'SVCJ:0.0',\n",
       " 'SVCJ:0.0',\n",
       " 'SVCJ:0.0',\n",
       " 'SVCJ:0.0',\n",
       " 'SVCJ:0.0',\n",
       " 'SVCJ:0.0',\n",
       " 'CGMY:0.0',\n",
       " 'CGMY:0.0',\n",
       " 'CGMY:0.0',\n",
       " 'CGMY:0.0',\n",
       " 'CGMY:6.210950382972189e-198',\n",
       " 'CGMY:8.425381535841281e-188',\n",
       " 'MERTON:0.0',\n",
       " 'MERTON:0.0',\n",
       " 'MERTON:0.0',\n",
       " 'MERTON:0.0',\n",
       " 'MERTON:7.563509700467758e-227',\n",
       " 'MERTON:1.0288018334262671e-248']"
      ]
     },
     "execution_count": 66,
     "metadata": {},
     "output_type": "execute_result"
    }
   ],
   "source": [
    "pvalue"
   ]
  },
  {
   "cell_type": "code",
   "execution_count": 46,
   "metadata": {},
   "outputs": [
    {
     "data": {
      "text/plain": [
       "0.0"
      ]
     },
     "execution_count": 46,
     "metadata": {},
     "output_type": "execute_result"
    }
   ],
   "source": [
    "kde = df_kde.to_numpy().reshape(-1)\n",
    "svcj = df_svcj.to_numpy().reshape(-1)\n",
    "stats.ks_2samp(kde, svcj).pvalue"
   ]
  },
  {
   "cell_type": "code",
   "execution_count": null,
   "metadata": {},
   "outputs": [],
   "source": []
  }
 ],
 "metadata": {
  "kernelspec": {
   "display_name": "Python 3",
   "language": "python",
   "name": "python3"
  },
  "language_info": {
   "codemirror_mode": {
    "name": "ipython",
    "version": 3
   },
   "file_extension": ".py",
   "mimetype": "text/x-python",
   "name": "python",
   "nbconvert_exporter": "python",
   "pygments_lexer": "ipython3",
   "version": "3.8.5"
  }
 },
 "nbformat": 4,
 "nbformat_minor": 4
}
