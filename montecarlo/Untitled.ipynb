{
 "cells": [
  {
   "cell_type": "code",
   "execution_count": 1,
   "metadata": {},
   "outputs": [
    {
     "name": "stdout",
     "output_type": "stream",
     "text": [
      "Collecting recombinator\n",
      "  Downloading recombinator-0.0.4-py3-none-any.whl (30 kB)\n",
      "Requirement already satisfied: pandas in /opt/anaconda3/lib/python3.7/site-packages (from recombinator) (1.0.1)\n",
      "Requirement already satisfied: numba in /opt/anaconda3/lib/python3.7/site-packages (from recombinator) (0.48.0)\n",
      "Collecting cocos\n",
      "  Downloading cocos-0.1.18-py3-none-any.whl (107 kB)\n",
      "\u001b[K     |████████████████████████████████| 107 kB 1.6 MB/s eta 0:00:01\n",
      "\u001b[?25hRequirement already satisfied: numpy in /opt/anaconda3/lib/python3.7/site-packages (from recombinator) (1.18.1)\n",
      "Requirement already satisfied: pytest in /opt/anaconda3/lib/python3.7/site-packages (from recombinator) (5.3.5)\n",
      "Requirement already satisfied: scipy in /opt/anaconda3/lib/python3.7/site-packages (from recombinator) (1.4.1)\n",
      "Requirement already satisfied: pytz>=2017.2 in /opt/anaconda3/lib/python3.7/site-packages (from pandas->recombinator) (2019.3)\n",
      "Requirement already satisfied: python-dateutil>=2.6.1 in /opt/anaconda3/lib/python3.7/site-packages (from pandas->recombinator) (2.8.1)\n",
      "Requirement already satisfied: llvmlite<0.32.0,>=0.31.0dev0 in /opt/anaconda3/lib/python3.7/site-packages (from numba->recombinator) (0.31.0)\n",
      "Requirement already satisfied: setuptools in /opt/anaconda3/lib/python3.7/site-packages (from numba->recombinator) (46.0.0.post20200309)\n",
      "Collecting contexttimer\n",
      "  Downloading contexttimer-0.3.3.tar.gz (4.9 kB)\n",
      "Collecting arrayfire\n",
      "  Downloading arrayfire-3.6.20181017.tar.gz (115 kB)\n",
      "\u001b[K     |████████████████████████████████| 115 kB 1.6 MB/s eta 0:00:01\n",
      "\u001b[?25hCollecting pathos\n",
      "  Downloading pathos-0.2.6.zip (219 kB)\n",
      "\u001b[K     |████████████████████████████████| 219 kB 2.3 MB/s eta 0:00:01\n",
      "\u001b[?25hCollecting loky\n",
      "  Downloading loky-2.8.0-py2.py3-none-any.whl (65 kB)\n",
      "\u001b[K     |████████████████████████████████| 65 kB 5.9 MB/s eta 0:00:011\n",
      "\u001b[?25hRequirement already satisfied: sympy in /opt/anaconda3/lib/python3.7/site-packages (from cocos->recombinator) (1.5.1)\n",
      "Collecting cached-property\n",
      "  Downloading cached_property-1.5.1-py2.py3-none-any.whl (6.0 kB)\n",
      "Requirement already satisfied: py>=1.5.0 in /opt/anaconda3/lib/python3.7/site-packages (from pytest->recombinator) (1.8.1)\n",
      "Requirement already satisfied: packaging in /opt/anaconda3/lib/python3.7/site-packages (from pytest->recombinator) (20.1)\n",
      "Requirement already satisfied: attrs>=17.4.0 in /opt/anaconda3/lib/python3.7/site-packages (from pytest->recombinator) (19.3.0)\n",
      "Requirement already satisfied: more-itertools>=4.0.0 in /opt/anaconda3/lib/python3.7/site-packages (from pytest->recombinator) (8.2.0)\n",
      "Requirement already satisfied: pluggy<1.0,>=0.12 in /opt/anaconda3/lib/python3.7/site-packages (from pytest->recombinator) (0.13.1)\n",
      "Requirement already satisfied: wcwidth in /opt/anaconda3/lib/python3.7/site-packages (from pytest->recombinator) (0.1.8)\n",
      "Requirement already satisfied: importlib-metadata>=0.12 in /opt/anaconda3/lib/python3.7/site-packages (from pytest->recombinator) (1.5.0)\n",
      "Requirement already satisfied: six>=1.5 in /opt/anaconda3/lib/python3.7/site-packages (from python-dateutil>=2.6.1->pandas->recombinator) (1.14.0)\n",
      "Collecting ppft>=1.6.6.2\n",
      "  Downloading ppft-1.6.6.2.zip (106 kB)\n",
      "\u001b[K     |████████████████████████████████| 106 kB 4.6 MB/s eta 0:00:01\n",
      "\u001b[?25hCollecting dill>=0.3.2\n",
      "  Downloading dill-0.3.2.zip (177 kB)\n",
      "\u001b[K     |████████████████████████████████| 177 kB 4.2 MB/s eta 0:00:01\n",
      "\u001b[?25hCollecting pox>=0.2.8\n",
      "  Downloading pox-0.2.8.zip (128 kB)\n",
      "\u001b[K     |████████████████████████████████| 128 kB 3.0 MB/s eta 0:00:01\n",
      "\u001b[?25hCollecting multiprocess>=0.70.10\n",
      "  Downloading multiprocess-0.70.10.zip (2.4 MB)\n",
      "\u001b[K     |████████████████████████████████| 2.4 MB 3.6 MB/s eta 0:00:01\n",
      "\u001b[?25hRequirement already satisfied: cloudpickle in /opt/anaconda3/lib/python3.7/site-packages (from loky->cocos->recombinator) (1.3.0)\n",
      "Requirement already satisfied: mpmath>=0.19 in /opt/anaconda3/lib/python3.7/site-packages (from sympy->cocos->recombinator) (1.1.0)\n",
      "Requirement already satisfied: pyparsing>=2.0.2 in /opt/anaconda3/lib/python3.7/site-packages (from packaging->pytest->recombinator) (2.4.6)\n",
      "Requirement already satisfied: zipp>=0.5 in /opt/anaconda3/lib/python3.7/site-packages (from importlib-metadata>=0.12->pytest->recombinator) (2.2.0)\n",
      "Building wheels for collected packages: contexttimer, arrayfire, pathos, ppft, dill, pox, multiprocess\n",
      "  Building wheel for contexttimer (setup.py) ... \u001b[?25ldone\n",
      "\u001b[?25h  Created wheel for contexttimer: filename=contexttimer-0.3.3-py3-none-any.whl size=5817 sha256=e8d2325c6e9aff55351dc51d18db9eb6bf9ec98b18bc1ade34bb22b8fb199c73\n",
      "  Stored in directory: /Users/jovankamatic/Library/Caches/pip/wheels/03/8c/3b/8eba5888c3218e78f7fc4442198abb6db2bd1125c1bfcff183\n",
      "  Building wheel for arrayfire (setup.py) ... \u001b[?25ldone\n",
      "\u001b[?25h  Created wheel for arrayfire: filename=arrayfire-3.6.20181017-py3-none-any.whl size=78920 sha256=58f1ab482217a4a9f1ceda5006b103ec12fa19a8b79e0905c245284e2ba5df10\n",
      "  Stored in directory: /Users/jovankamatic/Library/Caches/pip/wheels/6a/d2/40/19d01f187d964ad8079bd94e1a6c40e7388930a1f100083a40\n",
      "  Building wheel for pathos (setup.py) ... \u001b[?25ldone\n",
      "\u001b[?25h  Created wheel for pathos: filename=pathos-0.2.6-py3-none-any.whl size=77674 sha256=31c03b7a8f769c518767ff412a976ae096f65a54bd4d6a2dfdf65478be3b5fe0\n",
      "  Stored in directory: /Users/jovankamatic/Library/Caches/pip/wheels/34/c0/d9/580a0af39a46bc51b0ffe4ad8bc09b4ad4a99865d64b3d379d\n",
      "  Building wheel for ppft (setup.py) ... \u001b[?25ldone\n",
      "\u001b[?25h  Created wheel for ppft: filename=ppft-1.6.6.2-py3-none-any.whl size=64742 sha256=2ec1192505393121d90291d463f672e72a7ab9cd48425cbcfe77717180cdb379\n",
      "  Stored in directory: /Users/jovankamatic/Library/Caches/pip/wheels/b0/6d/96/a352a1cb50c4a197c05ac0ac95c4eaeed92874b8737497af34\n",
      "  Building wheel for dill (setup.py) ... \u001b[?25ldone\n",
      "\u001b[?25h  Created wheel for dill: filename=dill-0.3.2-py3-none-any.whl size=78912 sha256=810c71591d04314dbd5f1650f6602bb538506ac64130fdacbf68578ccf36bc16\n",
      "  Stored in directory: /Users/jovankamatic/Library/Caches/pip/wheels/72/6b/d5/5548aa1b73b8c3d176ea13f9f92066b02e82141549d90e2100\n",
      "  Building wheel for pox (setup.py) ... \u001b[?25ldone\n",
      "\u001b[?25h  Created wheel for pox: filename=pox-0.2.8-py3-none-any.whl size=28290 sha256=3b907c4355f4597af42be616b05fbcd6bc00c5eec8bbc5a404cbf7e217172d59\n",
      "  Stored in directory: /Users/jovankamatic/Library/Caches/pip/wheels/3d/a8/3a/712ebffd829266bcb1be24c2617849960fd885aa5f81db07dd\n",
      "  Building wheel for multiprocess (setup.py) ... \u001b[?25ldone\n",
      "\u001b[?25h  Created wheel for multiprocess: filename=multiprocess-0.70.10-py3-none-any.whl size=108187 sha256=96b97b5d3e47a510945fdaf0be0cf907e2e61112f0694e8a34c58fc2782e8f4f\n",
      "  Stored in directory: /Users/jovankamatic/Library/Caches/pip/wheels/69/a0/aa/14379d16112299afa0b5f8464971648ea2a660a8f6aa1ca088\n",
      "Successfully built contexttimer arrayfire pathos ppft dill pox multiprocess\n",
      "Installing collected packages: contexttimer, arrayfire, ppft, dill, pox, multiprocess, pathos, loky, cached-property, cocos, recombinator\n",
      "Successfully installed arrayfire-3.6.20181017 cached-property-1.5.1 cocos-0.1.18 contexttimer-0.3.3 dill-0.3.2 loky-2.8.0 multiprocess-0.70.10 pathos-0.2.6 pox-0.2.8 ppft-1.6.6.2 recombinator-0.0.4\n"
     ]
    }
   ],
   "source": [
    "!pip install recombinator"
   ]
  },
  {
   "cell_type": "code",
   "execution_count": 2,
   "metadata": {},
   "outputs": [],
   "source": [
    "from recombinator.iid_bootstrap import \\\n",
    "    iid_balanced_bootstrap, \\\n",
    "    iid_bootstrap, \\\n",
    "    iid_bootstrap_vectorized, \\\n",
    "    iid_bootstrap_via_choice, \\\n",
    "    iid_bootstrap_via_loop, \\\n",
    "    iid_bootstrap_with_antithetic_resampling"
   ]
  },
  {
   "cell_type": "code",
   "execution_count": null,
   "metadata": {},
   "outputs": [],
   "source": []
  }
 ],
 "metadata": {
  "kernelspec": {
   "display_name": "Python 3",
   "language": "python",
   "name": "python3"
  },
  "language_info": {
   "codemirror_mode": {
    "name": "ipython",
    "version": 3
   },
   "file_extension": ".py",
   "mimetype": "text/x-python",
   "name": "python",
   "nbconvert_exporter": "python",
   "pygments_lexer": "ipython3",
   "version": "3.7.6"
  }
 },
 "nbformat": 4,
 "nbformat_minor": 4
}
