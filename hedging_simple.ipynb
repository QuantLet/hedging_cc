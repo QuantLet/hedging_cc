{
 "cells": [
  {
   "cell_type": "code",
   "execution_count": 8,
   "metadata": {},
   "outputs": [
    {
     "name": "stderr",
     "output_type": "stream",
     "text": [
      "<ipython-input-8-e94480ed69df>:57: RuntimeWarning: invalid value encountered in sqrt\n",
      "  v[:, i] = v[:, i-1] + kappa * (vbar - v[:, i-1]) * dt + xi * np.sqrt(v[:, i-1]) * dw2[:, i-1]\n",
      "<ipython-input-8-e94480ed69df>:59: RuntimeWarning: invalid value encountered in sqrt\n",
      "  s = s0 * np.exp(np.cumsum(np.pad(rate * dt + np.sqrt(v[:, :-1]) * dw1 + (jmean + jvol * z) * dj, ((0, 0), (1, 0))), axis=1))\n"
     ]
    },
    {
     "data": {
      "image/png": "[encoded data removed]",
      "text/plain": [
       "<Figure size 432x288 with 1 Axes>"
      ]
     },
     "metadata": {
      "image/png": {
       "height": 263,
       "width": 372
      },
      "needs_background": "light"
     },
     "output_type": "display_data"
    }
   ],
   "source": [
    "from qfin.utils import bs_explicit_call, bs_call_delta\n",
    "import numpy as np\n",
    "import matplotlib.pyplot as plt\n",
    "\n",
    "# seed\n",
    "np.random.seed(1337)\n",
    "\n",
    "# model parameters\n",
    "v0 = 10.\n",
    "vbar = 1.\n",
    "xi = 3.\n",
    "lambdah = 1.\n",
    "kappa = 1.\n",
    "rho = 0.\n",
    "jmean = -0.07\n",
    "jvol = 0.6\n",
    "\n",
    "# market parameters\n",
    "maturity = 1.\n",
    "strike = 10000.\n",
    "s0 = 10000.\n",
    "rate = 0.\n",
    "\n",
    "# implementation parameters\n",
    "steps = 365\n",
    "dt = 1/steps\n",
    "npaths = 10000\n",
    "\n",
    "\n",
    "def integrate(v0, path, strategy, rate=0., dt=1/365):\n",
    "\n",
    "    pnl = v0 - strategy[:, :, 0] * path[:, :, 0]\n",
    "    steps = strategy.shape[2] - 1\n",
    "    \n",
    "    for i in range(1, steps):\n",
    "        pnl = np.exp(rate * dt) * pnl - (strategy[:, :, i] - strategy[:, :, i - 1]) * path[:, :, i]\n",
    "\n",
    "    pnl *= np.exp(rate * dt)\n",
    "    pnl += (strategy[:, :, steps - 1]) * path[:, :, steps]\n",
    "        \n",
    "    return pnl\n",
    "\n",
    "\n",
    "def bs(steps=100, dt=1/365, s0=1., rate=0., npaths=1):\n",
    "    \n",
    "    # randomness\n",
    "    dw1 = np.sqrt(dt) * np.random.standard_normal((npaths, steps - 1))\n",
    "    dw2 = np.sqrt(1 - rho ** 2) * np.sqrt(dt) * np.random.standard_normal((npaths, steps - 1)) + rho * dw1\n",
    "    dj = np.random.binomial(1, lambdah * dt, size=(npaths, steps - 1))\n",
    "    z = np.random.standard_normal(size=(npaths, steps - 1))\n",
    "\n",
    "    # variance\n",
    "    v = np.zeros((npaths, steps))\n",
    "    v[:, 0] = v0\n",
    "\n",
    "    for i in range(1, steps):\n",
    "        v[:, i] = v[:, i-1] + kappa * (vbar - v[:, i-1]) * dt + xi * np.sqrt(v[:, i-1]) * dw2[:, i-1]\n",
    "        \n",
    "    s = s0 * np.exp(np.cumsum(np.pad(rate * dt + np.sqrt(v[:, :-1]) * dw1 + (jmean + jvol * z) * dj, ((0, 0), (1, 0))), axis=1))\n",
    "\n",
    "    return s\n",
    "\n",
    "\n",
    "path = np.array([bs(steps=steps, dt=dt, npaths=npaths, s0=s0)])\n",
    "\n",
    "ttm = np.linspace(maturity, 0, steps)\n",
    "delta = bs_call_delta(ttm, strike, path, rate, np.sqrt(v0))\n",
    "price = bs_explicit_call(maturity, strike, s0, rate, np.sqrt(v0))\n",
    "\n",
    "# calculate pnl\n",
    "pnl = integrate(price, path, delta, rate, dt)\n",
    "pnl -= np.maximum(path[0, :, -1] - strike, 0)\n",
    "\n",
    "fig, ax = plt.subplots()\n",
    "ax.set_title(f\"STRIKE = {strike}\")\n",
    "_ = ax.hist(pnl.reshape(-1) / price, density=True, bins=100)\n"
   ]
  }
 ],
 "metadata": {
  "kernelspec": {
   "display_name": "Python 3",
   "language": "python",
   "name": "python3"
  },
  "language_info": {
   "codemirror_mode": {
    "name": "ipython",
    "version": 3
   },
   "file_extension": ".py",
   "mimetype": "text/x-python",
   "name": "python",
   "nbconvert_exporter": "python",
   "pygments_lexer": "ipython3",
   "version": "3.9.0"
  }
 },
 "nbformat": 4,
 "nbformat_minor": 4
}
