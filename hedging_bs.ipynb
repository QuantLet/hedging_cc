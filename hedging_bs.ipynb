{
 "cells": [
  {
   "cell_type": "code",
   "execution_count": null,
   "metadata": {},
   "outputs": [],
   "source": [
    "1200 + "
   ]
  },
  {
   "cell_type": "code",
   "execution_count": 20,
   "metadata": {},
   "outputs": [],
   "source": [
    "import math\n",
    "import numpy as np\n",
    "import scipy as sp\n",
    "import numpy.random as npr\n",
    "import pandas as pd\n",
    "import matplotlib.pyplot as plt\n",
    "import scipy.stats as scs\n",
    "import os\n",
    "from scipy.interpolate import InterpolatedUnivariateSpline\n",
    "\n",
    "from qfin.utils import bs_explicit_call, bs_call_delta, bs_gamma, bs_vega, interpolate"
   ]
  },
  {
   "cell_type": "code",
   "execution_count": 21,
   "metadata": {},
   "outputs": [],
   "source": [
    "def integrate(strategy, paths, initial_price, rate, dt=1/365):\n",
    "\n",
    "    k, n, m = paths.shape\n",
    "    pnl = initial_price - np.sum(strategy[:, :, 0] * paths[:, :, 0], axis=0)\n",
    "\n",
    "    for i in range(1, m - 1):\n",
    "        pnl = np.exp(rate * dt) * pnl - np.sum((strategy[:, :, i] - strategy[:, :, i - 1]) * paths[:, :, i], axis=0)\n",
    "\n",
    "    pnl *= np.exp(rate * dt)\n",
    "    pnl += np.sum((strategy[:, :, m - 2]) * paths[:, :, m - 1], axis=0)\n",
    "\n",
    "    return pnl"
   ]
  },
  {
   "cell_type": "code",
   "execution_count": 22,
   "metadata": {},
   "outputs": [],
   "source": [
    "T = 3/12\n",
    "dt = 1/365\n",
    "\n",
    "K1 = 100\n",
    "K2 = 105\n",
    "s0 = 100\n",
    "\n",
    "n = 20000\n",
    "m = int(T / dt + 1)\n",
    "\n",
    "rate = 0.05\n",
    "sigma = 0.2"
   ]
  },
  {
   "cell_type": "code",
   "execution_count": 23,
   "metadata": {},
   "outputs": [],
   "source": [
    "# generate paths\n",
    "\n",
    "z = np.random.standard_normal((n, m-1))\n",
    "s = s0 * np.exp(np.cumsum(np.pad((rate - sigma ** 2 / 2) * dt + sigma * np.sqrt(dt) * z, ((0, 0), (1, 0))), axis=1))\n",
    "\n",
    "ttm = np.linspace(T, 0, s.shape[1])\n",
    "c = bs_explicit_call(ttm, K2, s, rate, sigma)\n",
    "c[:, -1] = np.maximum(s[:, -1] - K2, 0)\n",
    "\n",
    "paths = np.array([s, c])"
   ]
  },
  {
   "cell_type": "markdown",
   "metadata": {},
   "source": [
    "# Delta hedging"
   ]
  },
  {
   "cell_type": "code",
   "execution_count": 27,
   "metadata": {},
   "outputs": [
    {
     "data": {
      "text/plain": [
       "(array([1.000e+00, 2.000e+00, 0.000e+00, 1.000e+00, 3.000e+00, 2.000e+00,\n",
       "        5.000e+00, 1.100e+01, 2.100e+01, 3.000e+01, 4.000e+01, 9.600e+01,\n",
       "        1.550e+02, 3.210e+02, 5.970e+02, 1.124e+03, 1.903e+03, 3.006e+03,\n",
       "        3.912e+03, 3.442e+03, 2.312e+03, 1.439e+03, 7.580e+02, 4.150e+02,\n",
       "        2.270e+02, 8.400e+01, 6.200e+01, 1.700e+01, 1.000e+01, 4.000e+00]),\n",
       " array([-0.59053616, -0.55884271, -0.52714927, -0.49545582, -0.46376238,\n",
       "        -0.43206893, -0.40037549, -0.36868204, -0.33698859, -0.30529515,\n",
       "        -0.2736017 , -0.24190826, -0.21021481, -0.17852137, -0.14682792,\n",
       "        -0.11513448, -0.08344103, -0.05174759, -0.02005414,  0.0116393 ,\n",
       "         0.04333275,  0.0750262 ,  0.10671964,  0.13841309,  0.17010653,\n",
       "         0.20179998,  0.23349342,  0.26518687,  0.29688031,  0.32857376,\n",
       "         0.3602672 ]),\n",
       " <BarContainer object of 30 artists>)"
      ]
     },
     "execution_count": 27,
     "metadata": {},
     "output_type": "execute_result"
    },
    {
     "data": {
      "image/png": "[encoded data removed]",
      "text/plain": [
       "<Figure size 432x288 with 1 Axes>"
      ]
     },
     "metadata": {
      "image/png": {
       "height": 248,
       "width": 387
      },
      "needs_background": "light"
     },
     "output_type": "display_data"
    }
   ],
   "source": [
    "strategy = np.zeros(paths.shape)\n",
    "strategy[0] = bs_call_delta(ttm, K1, s, rate, sigma)\n",
    "\n",
    "# setup initial price\n",
    "initial_price = bs_explicit_call(T, K1, s0, rate, sigma)\n",
    "\n",
    "# integrate\n",
    "pnl = integrate(strategy, paths, initial_price, rate)\n",
    "\n",
    "# liabilities\n",
    "pnl -= np.maximum(s[:, -1] - K1, 0)\n",
    "\n",
    "# relative hedge\n",
    "pnl = pnl / initial_price\n",
    "\n",
    "# plot pnl\n",
    "plt.hist(pnl, bins=30)"
   ]
  },
  {
   "cell_type": "markdown",
   "metadata": {},
   "source": [
    "# Delta and gamma hedging"
   ]
  },
  {
   "cell_type": "code",
   "execution_count": 11,
   "metadata": {},
   "outputs": [
    {
     "name": "stderr",
     "output_type": "stream",
     "text": [
      "/Users/konstantinisstarovoitovs/projects/chris/qfin/utils.py:37: RuntimeWarning: divide by zero encountered in true_divide\n",
      "  d1 = (np.log(spot / strike) + (rate + 0.5 * SIGMA ** 2) * ttm) / (SIGMA * np.sqrt(ttm))\n",
      "/Users/konstantinisstarovoitovs/projects/chris/qfin/utils.py:38: RuntimeWarning: invalid value encountered in true_divide\n",
      "  return norm.pdf(d1) / (spot * SIGMA * np.sqrt(ttm))\n",
      "<ipython-input-11-1a591efeeee7>:3: RuntimeWarning: divide by zero encountered in true_divide\n",
      "  g = bs_gamma(ttm, K1, s, rate, sigma) / bs_gamma(ttm, K2, s, rate, sigma)\n",
      "<ipython-input-11-1a591efeeee7>:4: RuntimeWarning: invalid value encountered in multiply\n",
      "  g *= bs_gamma(ttm, K1, s, rate, sigma) > 1e-2\n"
     ]
    },
    {
     "data": {
      "text/plain": [
       "(array([1.0000e+00, 0.0000e+00, 5.0000e+00, 3.0000e+00, 1.5000e+01,\n",
       "        1.8000e+01, 3.7000e+01, 9.5000e+01, 2.7200e+02, 8.9700e+02,\n",
       "        1.1263e+04, 6.1670e+03, 8.0900e+02, 3.1600e+02, 7.2000e+01,\n",
       "        1.5000e+01, 3.0000e+00, 1.0000e+00, 3.0000e+00, 2.0000e+00,\n",
       "        2.0000e+00, 0.0000e+00, 0.0000e+00, 0.0000e+00, 0.0000e+00,\n",
       "        0.0000e+00, 0.0000e+00, 1.0000e+00, 0.0000e+00, 1.0000e+00]),\n",
       " array([-0.46638455, -0.42362933, -0.38087412, -0.33811891, -0.29536369,\n",
       "        -0.25260848, -0.20985327, -0.16709806, -0.12434284, -0.08158763,\n",
       "        -0.03883242,  0.0039228 ,  0.04667801,  0.08943322,  0.13218844,\n",
       "         0.17494365,  0.21769886,  0.26045408,  0.30320929,  0.3459645 ,\n",
       "         0.38871971,  0.43147493,  0.47423014,  0.51698535,  0.55974057,\n",
       "         0.60249578,  0.64525099,  0.68800621,  0.73076142,  0.77351663,\n",
       "         0.81627184]),\n",
       " <BarContainer object of 30 artists>)"
      ]
     },
     "execution_count": 11,
     "metadata": {},
     "output_type": "execute_result"
    },
    {
     "data": {
      "image/png": "[encoded data removed]",
      "text/plain": [
       "<Figure size 432x288 with 1 Axes>"
      ]
     },
     "metadata": {
      "image/png": {
       "height": 248,
       "width": 388
      },
      "needs_background": "light"
     },
     "output_type": "display_data"
    }
   ],
   "source": [
    "strategy = np.zeros(paths.shape)\n",
    "\n",
    "g = bs_gamma(ttm, K1, s, rate, sigma) / bs_gamma(ttm, K2, s, rate, sigma)\n",
    "g *= bs_gamma(ttm, K1, s, rate, sigma) > 1e-2\n",
    "g *= bs_gamma(ttm, K2, s, rate, sigma) > 1e-2\n",
    "\n",
    "d = bs_call_delta(ttm, K1, s, rate, sigma) - g * bs_call_delta(ttm, K2, s, rate, sigma)\n",
    "\n",
    "strategy[0] = d\n",
    "strategy[1] = g\n",
    "\n",
    "# setup initial price\n",
    "initial_price = bs_explicit_call(T, K1, s0, rate, sigma)\n",
    "\n",
    "# integrate\n",
    "pnl = integrate(strategy, paths, initial_price, rate)\n",
    "\n",
    "# liabilities\n",
    "pnl -= np.maximum(s[:, -1] - K1, 0)\n",
    "\n",
    "# relative hedge\n",
    "pnl = pnl / initial_price\n",
    "\n",
    "# plot pnl\n",
    "plt.hist(pnl, bins=30)"
   ]
  }
 ],
 "metadata": {
  "kernelspec": {
   "display_name": "Python 3",
   "language": "python",
   "name": "python3"
  },
  "language_info": {
   "codemirror_mode": {
    "name": "ipython",
    "version": 3
   },
   "file_extension": ".py",
   "mimetype": "text/x-python",
   "name": "python",
   "nbconvert_exporter": "python",
   "pygments_lexer": "ipython3",
   "version": "3.9.0"
  }
 },
 "nbformat": 4,
 "nbformat_minor": 4
}
